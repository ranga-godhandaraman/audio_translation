{
 "cells": [
  {
   "cell_type": "code",
   "execution_count": 1,
   "id": "257c8386",
   "metadata": {},
   "outputs": [],
   "source": [
    "import nemo"
   ]
  },
  {
   "cell_type": "code",
   "execution_count": 2,
   "id": "4d3cf9fc",
   "metadata": {},
   "outputs": [
    {
     "name": "stderr",
     "output_type": "stream",
     "text": [
      "[NeMo W 2024-02-15 12:47:25 nemo_logging:349] /usr/lib/python3/dist-packages/scipy/__init__.py:146: UserWarning: A NumPy version >=1.17.3 and <1.25.0 is required for this version of SciPy (detected version 1.26.4\n",
      "      warnings.warn(f\"A NumPy version >={np_minversion} and <{np_maxversion}\"\n",
      "    \n",
      "2024-02-15 12:47:26.110422: I tensorflow/core/util/port.cc:113] oneDNN custom operations are on. You may see slightly different numerical results due to floating-point round-off errors from different computation orders. To turn them off, set the environment variable `TF_ENABLE_ONEDNN_OPTS=0`.\n",
      "2024-02-15 12:47:26.325862: E external/local_xla/xla/stream_executor/cuda/cuda_dnn.cc:9261] Unable to register cuDNN factory: Attempting to register factory for plugin cuDNN when one has already been registered\n",
      "2024-02-15 12:47:26.325897: E external/local_xla/xla/stream_executor/cuda/cuda_fft.cc:607] Unable to register cuFFT factory: Attempting to register factory for plugin cuFFT when one has already been registered\n",
      "2024-02-15 12:47:26.360848: E external/local_xla/xla/stream_executor/cuda/cuda_blas.cc:1515] Unable to register cuBLAS factory: Attempting to register factory for plugin cuBLAS when one has already been registered\n",
      "2024-02-15 12:47:26.424728: I tensorflow/core/platform/cpu_feature_guard.cc:182] This TensorFlow binary is optimized to use available CPU instructions in performance-critical operations.\n",
      "To enable the following instructions: AVX2 AVX512F AVX512_VNNI FMA, in other operations, rebuild TensorFlow with the appropriate compiler flags.\n",
      "2024-02-15 12:47:27.489491: W tensorflow/compiler/tf2tensorrt/utils/py_utils.cc:38] TF-TRT Warning: Could not find TensorRT\n"
     ]
    }
   ],
   "source": [
    "import nemo.collections.nlp as nemo_nlp"
   ]
  },
  {
   "cell_type": "code",
   "execution_count": 3,
   "id": "5cd8fa7e",
   "metadata": {},
   "outputs": [
    {
     "name": "stdout",
     "output_type": "stream",
     "text": [
      "[NeMo I 2024-02-15 12:47:43 cloud:58] Found existing object /home/ranga/.cache/torch/NeMo/NeMo_1.23.0rc0/nmt_ru_en_transformer6x6/3db82426b17db1ae7cc7ae4ee3e3679b/nmt_ru_en_transformer6x6.nemo.\n",
      "[NeMo I 2024-02-15 12:47:43 cloud:64] Re-using file from: /home/ranga/.cache/torch/NeMo/NeMo_1.23.0rc0/nmt_ru_en_transformer6x6/3db82426b17db1ae7cc7ae4ee3e3679b/nmt_ru_en_transformer6x6.nemo\n",
      "[NeMo I 2024-02-15 12:47:43 common:815] Instantiating model from pre-trained checkpoint\n",
      "[NeMo I 2024-02-15 12:47:49 tokenizer_utils:179] Getting YouTokenToMeTokenizer with model: /tmp/tmpl2qht355/tokenizer.all.32000.BPE.model with r2l: False.\n",
      "[NeMo I 2024-02-15 12:47:50 tokenizer_utils:179] Getting YouTokenToMeTokenizer with model: /tmp/tmpl2qht355/tokenizer.all.32000.BPE.model with r2l: False.\n"
     ]
    },
    {
     "name": "stderr",
     "output_type": "stream",
     "text": [
      "[NeMo W 2024-02-15 12:47:50 modelPT:165] If you intend to do training or fine-tuning, please call the ModelPT.setup_training_data() method and provide a valid configuration file to setup the train data loader.\n",
      "    Train config : \n",
      "    src_file_name: /home/sandeepsub/Datasets/wmt/wmt20_en_zh/processed/batches.tokens.cmwt.septokenizer.16000.pkl\n",
      "    tgt_file_name: /home/sandeepsub/Datasets/wmt/wmt20_en_zh/processed/batches.tokens.cmwt.septokenizer.16000.pkl\n",
      "    tokens_in_batch: 16000\n",
      "    clean: true\n",
      "    max_seq_length: 512\n",
      "    cache_ids: false\n",
      "    cache_data_per_node: false\n",
      "    use_cache: false\n",
      "    shuffle: true\n",
      "    num_samples: -1\n",
      "    drop_last: false\n",
      "    pin_memory: false\n",
      "    num_workers: 8\n",
      "    load_from_cached_dataset: true\n",
      "    reverse_lang_direction: true\n",
      "    \n",
      "[NeMo W 2024-02-15 12:47:50 modelPT:172] If you intend to do validation, please call the ModelPT.setup_validation_data() or ModelPT.setup_multiple_validation_data() method and provide a valid configuration file to setup the validation data loader(s). \n",
      "    Validation config : \n",
      "    src_file_name: /home/sandeepsub/Datasets/wmt/wmt20_en_ru/parallel/newstest2013-ru-en.clean.tok.src\n",
      "    tgt_file_name: /home/sandeepsub/Datasets/wmt/wmt20_en_ru/parallel/newstest2013-ru-en.clean.tok.ref\n",
      "    tokens_in_batch: 512\n",
      "    clean: false\n",
      "    max_seq_length: 512\n",
      "    cache_ids: false\n",
      "    cache_data_per_node: false\n",
      "    use_cache: false\n",
      "    shuffle: false\n",
      "    num_samples: -1\n",
      "    drop_last: false\n",
      "    pin_memory: false\n",
      "    num_workers: 8\n",
      "    \n",
      "[NeMo W 2024-02-15 12:47:50 modelPT:178] Please call the ModelPT.setup_test_data() or ModelPT.setup_multiple_test_data() method and provide a valid configuration file to setup the test data loader(s).\n",
      "    Test config : \n",
      "    src_file_name: /home/sandeepsub/Datasets/wmt/wmt20_en_ru/parallel/newstest2014-ru-en.clean.tok.src\n",
      "    tgt_file_name: /home/sandeepsub/Datasets/wmt/wmt20_en_ru/parallel/newstest2014-ru-en.clean.tok.ref\n",
      "    tokens_in_batch: 512\n",
      "    clean: false\n",
      "    max_seq_length: 512\n",
      "    cache_ids: false\n",
      "    cache_data_per_node: false\n",
      "    use_cache: false\n",
      "    shuffle: false\n",
      "    num_samples: -1\n",
      "    drop_last: false\n",
      "    pin_memory: false\n",
      "    num_workers: 8\n",
      "    \n",
      "[NeMo W 2024-02-15 12:47:50 nlp_overrides:785] Apex was not found. Please see the NeMo README for installation instructions: https://github.com/NVIDIA/apex\n",
      "    Megatron-based models require Apex to function correctly.\n"
     ]
    },
    {
     "name": "stdout",
     "output_type": "stream",
     "text": [
      "[NeMo I 2024-02-15 12:47:54 save_restore_connector:263] Model MTEncDecModel was successfully restored from /home/ranga/.cache/torch/NeMo/NeMo_1.23.0rc0/nmt_ru_en_transformer6x6/3db82426b17db1ae7cc7ae4ee3e3679b/nmt_ru_en_transformer6x6.nemo.\n"
     ]
    }
   ],
   "source": [
    "# Neural Machine Translation model for Russian to English translation\n",
    "nmt_model = nemo_nlp.models.MTEncDecModel.from_pretrained(model_name='nmt_ru_en_transformer6x6').cuda()"
   ]
  },
  {
   "cell_type": "code",
   "execution_count": 10,
   "id": "48423e67",
   "metadata": {},
   "outputs": [],
   "source": [
    "english_text = nmt_model.translate([\"доброе утро!\"])"
   ]
  },
  {
   "cell_type": "code",
   "execution_count": 11,
   "id": "881e6e7e",
   "metadata": {},
   "outputs": [
    {
     "name": "stdout",
     "output_type": "stream",
     "text": [
      "['good morning !']\n"
     ]
    }
   ],
   "source": [
    "# This will print: \"Hello world!\"\n",
    "print(english_text)"
   ]
  },
  {
   "cell_type": "code",
   "execution_count": null,
   "id": "8de4387e",
   "metadata": {},
   "outputs": [],
   "source": []
  },
  {
   "cell_type": "code",
   "execution_count": null,
   "id": "4ecd8607",
   "metadata": {},
   "outputs": [],
   "source": []
  }
 ],
 "metadata": {
  "kernelspec": {
   "display_name": "Python 3 (ipykernel)",
   "language": "python",
   "name": "python3"
  },
  "language_info": {
   "codemirror_mode": {
    "name": "ipython",
    "version": 3
   },
   "file_extension": ".py",
   "mimetype": "text/x-python",
   "name": "python",
   "nbconvert_exporter": "python",
   "pygments_lexer": "ipython3",
   "version": "3.10.12"
  }
 },
 "nbformat": 4,
 "nbformat_minor": 5
}
